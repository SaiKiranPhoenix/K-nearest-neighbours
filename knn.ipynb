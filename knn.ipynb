{
 "cells": [
  {
   "cell_type": "code",
   "execution_count": 1,
   "metadata": {},
   "outputs": [],
   "source": [
    "import numpy as np\n",
    "import matplotlib.pyplot as plt\n",
    "import pandas as pd"
   ]
  },
  {
   "cell_type": "code",
   "execution_count": 2,
   "metadata": {},
   "outputs": [
    {
     "name": "stdout",
     "output_type": "stream",
     "text": [
      "enter point\n"
     ]
    }
   ],
   "source": [
    "k=int(input(\"enter k\"))\n",
    "print(\"enter point\")\n",
    "xin=int(input())\n",
    "yin=int(input())"
   ]
  },
  {
   "cell_type": "code",
   "execution_count": 3,
   "metadata": {},
   "outputs": [],
   "source": [
    "dataset=pd.read_csv(\"Covid_Data_new1.csv\")\n",
    "X=dataset.iloc[:len(dataset),0:1].values\n",
    "y=dataset.iloc[:len(dataset),4:5].values"
   ]
  },
  {
   "cell_type": "code",
   "execution_count": 4,
   "metadata": {},
   "outputs": [],
   "source": [
    "def distance(dx,dy,x,y):\n",
    "    return (((dx-x)**2+(dy-y)**2)**(0.5))"
   ]
  },
  {
   "cell_type": "code",
   "execution_count": 5,
   "metadata": {},
   "outputs": [],
   "source": [
    "ds=[]\n",
    "for i in range(len(X)):\n",
    "    a=X[i][0]\n",
    "    b=y[i][0]\n",
    "    c=distance(a,b,xin,yin)\n",
    "    ds.append([a,b,c])"
   ]
  },
  {
   "cell_type": "code",
   "execution_count": 6,
   "metadata": {},
   "outputs": [],
   "source": [
    "for i in  range(len(dataset)):\n",
    "    for j in range(len(dataset)-i-2):\n",
    "        if(ds[j][2]>ds[j+1][2]):\n",
    "            ds[j],ds[j+1]=ds[j+1],ds[j]"
   ]
  },
  {
   "cell_type": "code",
   "execution_count": 7,
   "metadata": {},
   "outputs": [],
   "source": [
    "xpts1=[]\n",
    "ypts1=[]\n",
    "xpts2=[]\n",
    "ypts2=[]\n",
    "for i in range(len(dataset)):\n",
    "    if(i<k):\n",
    "        xpts1.append(ds[i][0])\n",
    "        ypts1.append(ds[i][1])\n",
    "    else:\n",
    "        xpts2.append(ds[i][0])\n",
    "        ypts2.append(ds[i][1])"
   ]
  },
  {
   "cell_type": "code",
   "execution_count": 11,
   "metadata": {},
   "outputs": [
    {
     "data": {
      "text/plain": [
       "[<matplotlib.lines.Line2D at 0x15369982cd0>]"
      ]
     },
     "execution_count": 11,
     "metadata": {},
     "output_type": "execute_result"
    },
    {
     "data": {
      "image/png": "[encoded data removed]",
      "text/plain": [
       "<Figure size 640x480 with 1 Axes>"
      ]
     },
     "metadata": {},
     "output_type": "display_data"
    }
   ],
   "source": [
    "plt.plot(xpts1,ypts1,'o',color='red')\n",
    "plt.plot(xpts2,ypts2,'o',color='blue')\n",
    "plt.plot(xin,yin,'*',color='green')"
   ]
  }
 ],
 "metadata": {
  "kernelspec": {
   "display_name": "Python 3",
   "language": "python",
   "name": "python3"
  },
  "language_info": {
   "codemirror_mode": {
    "name": "ipython",
    "version": 3
   },
   "file_extension": ".py",
   "mimetype": "text/x-python",
   "name": "python",
   "nbconvert_exporter": "python",
   "pygments_lexer": "ipython3",
   "version": "3.11.1"
  },
  "orig_nbformat": 4
 },
 "nbformat": 4,
 "nbformat_minor": 2
}
